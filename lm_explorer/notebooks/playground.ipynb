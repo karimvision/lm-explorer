{
 "cells": [
  {
   "cell_type": "code",
   "execution_count": 51,
   "metadata": {},
   "outputs": [
    {
     "data": {
      "text/plain": [
       "{'message': 'Successfully processed in 0.0491 seconds ',\n",
       " 'model': '774M',\n",
       " 'probabilities': [0.183187797665596,\n",
       "  0.11201334744691849,\n",
       "  0.09224069863557816,\n",
       "  0.08290810137987137,\n",
       "  0.045200202614068985,\n",
       "  0.044935788959264755,\n",
       "  0.034730441868305206,\n",
       "  0.0241570845246315,\n",
       "  0.01726078987121582,\n",
       "  0.01694663241505623,\n",
       "  0.014685383066534996,\n",
       "  0.014565388672053814,\n",
       "  0.011743830516934395,\n",
       "  0.01116977445781231,\n",
       "  0.009266451001167297,\n",
       "  0.008549396879971027,\n",
       "  0.008189860731363297,\n",
       "  0.007885336875915527,\n",
       "  0.007221146486699581,\n",
       "  0.006279643625020981,\n",
       "  0.006147276610136032,\n",
       "  0.004882620181888342,\n",
       "  0.004255319479852915,\n",
       "  0.004166496451944113,\n",
       "  0.003749335650354624,\n",
       "  0.0032728600781410933,\n",
       "  0.0030997225549072027,\n",
       "  0.002953324932605028,\n",
       "  0.002666850108653307,\n",
       "  0.0024798947852104902],\n",
       " 'sentence': 'Neymar was spotted in Barcelona. Barcelona and',\n",
       " 'words': [' Paris',\n",
       "  ' Real',\n",
       "  ' Brazil',\n",
       "  ' the',\n",
       "  ' Barcelona',\n",
       "  ' Santos',\n",
       "  ' Ney',\n",
       "  ' his',\n",
       "  ' PS',\n",
       "  ' France',\n",
       "  ' Madrid',\n",
       "  ' Argentina',\n",
       "  ' Spain',\n",
       "  ' Manchester',\n",
       "  ' Rio',\n",
       "  ' Portugal',\n",
       "  ' Atl',\n",
       "  ' its',\n",
       "  ' FC',\n",
       "  ' Sev',\n",
       "  ' Sao',\n",
       "  ' Monaco',\n",
       "  ' At',\n",
       "  ' Inter',\n",
       "  ' Bar',\n",
       "  ' Chelsea',\n",
       "  ' Port',\n",
       "  ' Bayern',\n",
       "  ' Brazilian',\n",
       "  ' a']}"
      ]
     },
     "metadata": {},
     "output_type": "display_data"
    }
   ],
   "source": [
    "import requests\n",
    "res = requests.get('http://127.0.0.1:8000/api/get_next_words', json={\"sentence\":\"Neymar was spotted in Barcelona. Barcelona and\", \"topk\":30})\n",
    "if res.ok:\n",
    "    display(res.json())"
   ]
  },
  {
   "cell_type": "code",
   "execution_count": 35,
   "metadata": {},
   "outputs": [],
   "source": [
    "import re"
   ]
  },
  {
   "cell_type": "code",
   "execution_count": 36,
   "metadata": {},
   "outputs": [],
   "source": [
    "string = \"some crap <d> and <d>\""
   ]
  },
  {
   "cell_type": "code",
   "execution_count": 45,
   "metadata": {},
   "outputs": [
    {
     "ename": "SyntaxError",
     "evalue": "invalid syntax (<ipython-input-45-d4593eb126b7>, line 2)",
     "output_type": "error",
     "traceback": [
      "\u001b[0;36m  File \u001b[0;32m\"<ipython-input-45-d4593eb126b7>\"\u001b[0;36m, line \u001b[0;32m2\u001b[0m\n\u001b[0;31m    df.apply(x:re.findall(r'\\bcra\\S*',string)[0])\u001b[0m\n\u001b[0m              ^\u001b[0m\n\u001b[0;31mSyntaxError\u001b[0m\u001b[0;31m:\u001b[0m invalid syntax\n"
     ]
    }
   ],
   "source": [
    "\n",
    "df.apply(x:re.findall(r'\\bcra\\S*',string)[0])"
   ]
  },
  {
   "cell_type": "code",
   "execution_count": null,
   "metadata": {},
   "outputs": [],
   "source": []
  }
 ],
 "metadata": {
  "kernelspec": {
   "display_name": "Environment (conda_pytorch_p36)",
   "language": "python",
   "name": "conda_pytorch_p36"
  },
  "language_info": {
   "codemirror_mode": {
    "name": "ipython",
    "version": 3
   },
   "file_extension": ".py",
   "mimetype": "text/x-python",
   "name": "python",
   "nbconvert_exporter": "python",
   "pygments_lexer": "ipython3",
   "version": "3.6.5"
  }
 },
 "nbformat": 4,
 "nbformat_minor": 2
}
